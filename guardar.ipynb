{
 "cells": [
  {
   "cell_type": "code",
   "execution_count": 1,
   "metadata": {},
   "outputs": [],
   "source": [
    "from seleniumbase import Driver"
   ]
  },
  {
   "cell_type": "code",
   "execution_count": 2,
   "metadata": {},
   "outputs": [],
   "source": [
    "#abrir navegador, defecto chrome\n",
    "driver=Driver(uc=True)\n"
   ]
  },
  {
   "cell_type": "code",
   "execution_count": 3,
   "metadata": {},
   "outputs": [],
   "source": [
    "driver.open(\"https://www.linkedin.com/login/es?fromSignIn=true&trk=guest_homepage-basic_nav-header-signin\")\n"
   ]
  },
  {
   "cell_type": "code",
   "execution_count": 4,
   "metadata": {},
   "outputs": [],
   "source": [
    "driver.type(\"#username\", \"dreamsin.pe@gmail.com\")\n",
    "driver.type(\"#password\", \"holasoyDREAMSIN5+\")\n",
    "driver.click(\"button.btn__primary--large\")"
   ]
  },
  {
   "cell_type": "code",
   "execution_count": 5,
   "metadata": {},
   "outputs": [],
   "source": [
    "driver.open(\"https://www.linkedin.com/search/results/people/?origin=FACETED_SEARCH&schoolFilter=%5B%221017841%22%5D&sid=nrM\")"
   ]
  },
  {
   "cell_type": "code",
   "execution_count": 6,
   "metadata": {},
   "outputs": [],
   "source": [
    "driver.press_keys(\"input.search-global-typeahead__input\", \"Pedro Arturo Valdivia Magallanes\\n\")"
   ]
  },
  {
   "cell_type": "code",
   "execution_count": 7,
   "metadata": {},
   "outputs": [
    {
     "data": {
      "text/plain": [
       "'Pedro Valdivia\\nVer el perfil de Pedro Valdivia\\n• 3er+\\nContacto de 3er grado y demás\\nCMRP | MLA I | PMP | IAM Certificate | CAMA | MPP | AMP Strategic | MLE | SPP | Facility Services | Lead Auditor ISO 55001-Gestor de Mantenimiento\\nPeru'"
      ]
     },
     "execution_count": 7,
     "metadata": {},
     "output_type": "execute_result"
    }
   ],
   "source": [
    "driver.find_elements(\"li.reusable-search__result-container\")[1].text"
   ]
  },
  {
   "cell_type": "code",
   "execution_count": 8,
   "metadata": {},
   "outputs": [],
   "source": [
    "driver.find_elements(\"li.reusable-search__result-container\")[1].click()"
   ]
  },
  {
   "cell_type": "markdown",
   "metadata": {},
   "source": [
    "i=driver.find_elements(\"div.entity-result__universal-image\")\n",
    "i[0].click()"
   ]
  },
  {
   "cell_type": "code",
   "execution_count": 16,
   "metadata": {},
   "outputs": [],
   "source": [
    "#etiqueta sobre la descripcion\n",
    "titulo = driver.find_element(\"div.text-body-medium\").text"
   ]
  },
  {
   "cell_type": "code",
   "execution_count": 15,
   "metadata": {},
   "outputs": [],
   "source": [
    "nombrePerfil = driver.find_element(\"h1.text-heading-xlarge.inline.t-24.v-align-middle\").text"
   ]
  },
  {
   "cell_type": "code",
   "execution_count": 18,
   "metadata": {},
   "outputs": [],
   "source": [
    "from openpyxl import Workbook\n",
    "wb = Workbook()\n",
    "# grab the active worksheet\n",
    "ws = wb.active\n",
    "\n",
    "# Data can be assigned directly to cells\n",
    "ws['A1'] = \"NombrePerfil\"\n",
    "ws['B1'] = \"Link\"\n",
    "ws['C1'] = \"Titulo\"\n",
    "ws['D1'] = \"Experiencia\"\n",
    "\n",
    "# Rows can also be appended\n",
    "# ws.append([1, 2, 3])\n",
    "num = 2\n",
    "a = \"A\" + str(num)\n",
    "b = \"B\" + str(num)\n",
    "c = \"B\" + str(num)\n",
    "ws[a] = nombrePerfil\n",
    "ws[b] = titulo\n",
    "# Python types will automatically be converted\n",
    "import datetime\n",
    "ws['E1'] = datetime.datetime.now()\n",
    "\n",
    "# Save the file\n",
    "wb.save(\"sample.xlsx\")"
   ]
  },
  {
   "cell_type": "code",
   "execution_count": null,
   "metadata": {},
   "outputs": [],
   "source": [
    "#ws.append([1, 2, 3])"
   ]
  },
  {
   "cell_type": "code",
   "execution_count": 11,
   "metadata": {},
   "outputs": [
    {
     "name": "stdout",
     "output_type": "stream",
     "text": [
      "Experiencia\n",
      "Experiencia\n",
      "Mantenimiento\n",
      "Mantenimiento\n",
      "SIOM · Jornada completa\n",
      "SIOM · Jornada completa\n",
      "may. 2024 - sept. 2024 · 5 meses\n",
      "may. 2024 - sept. 2024 · 5 meses\n",
      "LIMA AIRPORT PARTNERS\n",
      "LIMA AIRPORT PARTNERS\n",
      "Jornada completa · 1 año 5 meses\n",
      "Jornada completa · 1 año 5 meses\n",
      "Híbrido\n",
      "Híbrido\n",
      "Controller de Mantenimiento Sistemas Mecánicos\n",
      "Controller de Mantenimiento Sistemas Mecánicos\n",
      "abr. 2023 - abr. 2024 · 1 año 1 mes\n",
      "abr. 2023 - abr. 2024 · 1 año 1 mes\n",
      "Soporte Key User SAP PM\n",
      "Soporte Key User SAP PM\n",
      "dic. 2022 - mar. 2023 · 4 meses\n",
      "dic. 2022 - mar. 2023 · 4 meses\n",
      "Jefe de mantenimiento\n",
      "Jefe de mantenimiento\n",
      "Farmacias Peruanas · Jornada completa\n",
      "Farmacias Peruanas · Jornada completa\n",
      "oct. 2022 - dic. 2022 · 3 meses\n",
      "oct. 2022 - dic. 2022 · 3 meses\n",
      "Ing. Especialista\n",
      "Ing. Especialista\n",
      "LIMA AIRPORT PARTNERS · Jornada completa\n",
      "LIMA AIRPORT PARTNERS · Jornada completa\n",
      "jun. 2021 - sept. 2022 · 1 año 4 meses\n",
      "jun. 2021 - sept. 2022 · 1 año 4 meses\n",
      "Lima, Perú\n",
      "Lima, Perú\n",
      "Programador de Gestión de Activos CHI\n",
      "Programador de Gestión de Activos CHI\n",
      "Hayduk Corporación · Jornada completa\n",
      "Hayduk Corporación · Jornada completa\n",
      "feb. 2020 - jun. 2021 · 1 año 5 meses\n",
      "feb. 2020 - jun. 2021 · 1 año 5 meses\n",
      "Tambo de Mora\n",
      "Tambo de Mora\n",
      "Mostrar todas las experiencias (16)\n"
     ]
    }
   ],
   "source": [
    "#\n",
    "print(driver.find_elements(\"section.artdeco-card\")[3].text)"
   ]
  }
 ],
 "metadata": {
  "kernelspec": {
   "display_name": ".venv",
   "language": "python",
   "name": "python3"
  },
  "language_info": {
   "codemirror_mode": {
    "name": "ipython",
    "version": 3
   },
   "file_extension": ".py",
   "mimetype": "text/x-python",
   "name": "python",
   "nbconvert_exporter": "python",
   "pygments_lexer": "ipython3",
   "version": "3.12.3"
  }
 },
 "nbformat": 4,
 "nbformat_minor": 2
}

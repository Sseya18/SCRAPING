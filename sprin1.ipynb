{
 "cells": [
  {
   "cell_type": "code",
   "execution_count": 1,
   "metadata": {},
   "outputs": [],
   "source": [
    "from seleniumbase import Driver"
   ]
  },
  {
   "cell_type": "code",
   "execution_count": 2,
   "metadata": {},
   "outputs": [],
   "source": [
    "#abrir navegador, defecto chrome\n",
    "driver=Driver(uc=True)\n"
   ]
  },
  {
   "cell_type": "code",
   "execution_count": 3,
   "metadata": {},
   "outputs": [],
   "source": [
    "driver.open(\"https://www.linkedin.com/login/es?fromSignIn=true&trk=guest_homepage-basic_nav-header-signin\")\n"
   ]
  },
  {
   "cell_type": "code",
   "execution_count": 4,
   "metadata": {},
   "outputs": [],
   "source": [
    "driver.type(\"#username\", \"dreamsin.pe@gmail.com\")\n",
    "driver.type(\"#password\", \"holasoyDREAMSIN5+\")\n",
    "driver.click(\"button.btn__primary--large\")"
   ]
  },
  {
   "cell_type": "code",
   "execution_count": 12,
   "metadata": {},
   "outputs": [
    {
     "data": {
      "text/plain": [
       "'Global Lead of Scaled Comms & Platforms, YouTube, Google'"
      ]
     },
     "execution_count": 12,
     "metadata": {},
     "output_type": "execute_result"
    }
   ],
   "source": [
    "#etiqueta sobre la descripcion\n",
    "driver.find_element(\"div.text-body-medium\").text"
   ]
  },
  {
   "cell_type": "code",
   "execution_count": 24,
   "metadata": {},
   "outputs": [
    {
     "name": "stdout",
     "output_type": "stream",
     "text": [
      "Experience\n",
      "Experience\n",
      "Founder & CEO\n",
      "Founder & CEO\n",
      "Stray Animal Project · Self-employed\n",
      "Stray Animal Project · Self-employed\n",
      "Dec 2019 - Present · 4 yrs 8 mos\n",
      "Dec 2019 to Present · 4 yrs 8 mos\n",
      "Nonprofit organization dedicated to fund neuter/spay programs and to provide education for responsible pet ownership. We work with vets in Peru to spay/neuter dogs and cats from low-income families, strays, and animals living in shelters. In other words, we focus on animals that otherwise won’t be fixed. We have already spayed and neutered over 10K animals, preventing the births of thousands more.\n",
      "\n",
      "http://strayanimalproject.org/\n",
      "…see more\n",
      "Stray Animal Project\n",
      "Stray Animal Project\n",
      "Global Lead of Creator Scaled Comms & Platforms\n",
      "Global Lead of Creator Scaled Comms & Platforms\n",
      "YouTube · Full-time\n",
      "YouTube · Full-time\n",
      "Apr 2019 - Present · 5 yrs 4 mos\n",
      "Apr 2019 to Present · 5 yrs 4 mos\n",
      "San Francisco Bay Area\n",
      "San Francisco Bay Area\n",
      "International Advisory Board (IAB) Member - MBA School\n",
      "International Advisory Board (IAB) Member - MBA School\n",
      "The Wharton School\n",
      "The Wharton School\n",
      "Sep 2018 - Dec 2019 · 1 yr 4 mos\n",
      "Sep 2018 to Dec 2019 · 1 yr 4 mos\n",
      "Greater Philadelphia Area\n",
      "Greater Philadelphia Area\n",
      "Sales Insights Manager - Adwords\n",
      "Sales Insights Manager - Adwords\n",
      "Google\n",
      "Google\n",
      "Jun 2016 - Apr 2019 · 2 yrs 11 mos\n",
      "Jun 2016 to Apr 2019 · 2 yrs 11 mos\n",
      "Mountain View, California\n",
      "Mountain View, California\n",
      "Channel Sales MBA Intern\n",
      "Channel Sales MBA Intern\n",
      "Google\n",
      "Google\n",
      "Jun 2015 - Aug 2015 · 3 mos\n",
      "Jun 2015 to Aug 2015 · 3 mos\n",
      "San Francisco Bay Area\n",
      "San Francisco Bay Area\n",
      "Show all 9 experiences\n"
     ]
    }
   ],
   "source": [
    "#\n",
    "print(driver.find_elements(\"section.artdeco-card\")[3].text)"
   ]
  }
 ],
 "metadata": {
  "kernelspec": {
   "display_name": ".venv",
   "language": "python",
   "name": "python3"
  },
  "language_info": {
   "codemirror_mode": {
    "name": "ipython",
    "version": 3
   },
   "file_extension": ".py",
   "mimetype": "text/x-python",
   "name": "python",
   "nbconvert_exporter": "python",
   "pygments_lexer": "ipython3",
   "version": "3.12.3"
  }
 },
 "nbformat": 4,
 "nbformat_minor": 2
}

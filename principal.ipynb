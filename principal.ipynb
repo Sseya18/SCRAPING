{
 "cells": [
  {
   "cell_type": "code",
   "execution_count": 1,
   "metadata": {},
   "outputs": [],
   "source": [
    "from seleniumbase import Driver\n",
    "from alexanderContribucion import liberar\n",
    "from alexanderContribucion import encontrar_nombre_mas_parecido\n",
    "import pandas as pd"
   ]
  },
  {
   "cell_type": "markdown",
   "metadata": {},
   "source": [
    "Ingresamos a linkedin"
   ]
  },
  {
   "cell_type": "code",
   "execution_count": 2,
   "metadata": {},
   "outputs": [],
   "source": [
    "driver=Driver(uc=True)\n",
    "driver.open(\"https://www.linkedin.com/login/es?fromSignIn=true&trk=guest_homepage-basic_nav-header-signin\")\n",
    "driver.type(\"#username\", \"dreamsin.pe@gmail.com\")\n",
    "driver.type(\"#password\", \"holasoyDREAMSIN5+\")\n",
    "driver.click(\"button.btn__primary--large\")"
   ]
  },
  {
   "cell_type": "markdown",
   "metadata": {},
   "source": [
    "Sacamos de un excel los nombres de los alumnos que sera buscados en linkedin"
   ]
  },
  {
   "cell_type": "code",
   "execution_count": 3,
   "metadata": {},
   "outputs": [],
   "source": [
    "archivo_excel=\"./EGRESADOS_FIIS.xlsx\"\n",
    "df = pd.read_excel(archivo_excel, engine='openpyxl')\n",
    "listaAlumnos=df['Unnamed: 2']"
   ]
  },
  {
   "cell_type": "code",
   "execution_count": 4,
   "metadata": {},
   "outputs": [],
   "source": [
    "import time"
   ]
  },
  {
   "cell_type": "code",
   "execution_count": 5,
   "metadata": {},
   "outputs": [
    {
     "name": "stdout",
     "output_type": "stream",
     "text": [
      "hello world\n"
     ]
    }
   ],
   "source": [
    "liberar()"
   ]
  },
  {
   "cell_type": "code",
   "execution_count": null,
   "metadata": {},
   "outputs": [
    {
     "name": "stdout",
     "output_type": "stream",
     "text": [
      "Como esta en el excel: Myrian Ortega\n",
      "entra\n",
      "['Myrian Ortega Retuerto']\n",
      "myrian ortega retuerto\n",
      "['myrian', 'ortega', 'retuerto']\n",
      "myrian\n",
      "retuerto\n",
      "el que mas se parece segun alexander-sandro: myrian ortega retuerto\n"
     ]
    }
   ],
   "source": [
    "\n",
    "for i in range(5,8):\n",
    "    driver.open(\"https://www.linkedin.com/search/results/people/?origin=FACETED_SEARCH&schoolFilter=%5B%221017841%22%5D&sid=nrM\")\n",
    "    nombre_objetivos=listaAlumnos[i]\n",
    "    print(\"Como esta en el excel:\",nombre_objetivos)\n",
    "    driver.press_keys(\"input.search-global-typeahead__input\", nombre_objetivos+\"\\n\")\n",
    "    time.sleep(3)\n",
    "    resultados = driver.find_elements(\"li.reusable-search__result-container\")\n",
    "    if resultados is None: \n",
    "        print(\"Error: No se encontraron resultados.\")\n",
    "        continue\n",
    "    mejor_nombre,mayor_coincidencia,posicion_mejor_nombre=encontrar_nombre_mas_parecido(resultados=resultados,nombre_objetivo=nombre_objetivos)\n",
    "    print(\"el que mas se parece segun alexander-sandro:\",mejor_nombre)"
   ]
  },
  {
   "cell_type": "code",
   "execution_count": null,
   "metadata": {},
   "outputs": [],
   "source": [
    "resultados = driver.find_elements(\"li.reusable-search__result-container\")\n",
    "lista_nombres = [resultado.text.split(\"\\n\")[0].strip() for resultado in resultados]  # Extraer solo los nombres\n",
    "print(lista_nombres)\n",
    "nombre=\"Myrian Ortega Retuerto\"\n",
    "nombre = nombre.lower()\n",
    "print(nombre)\n",
    "partes_nombre = nombre.split()\n"
   ]
  },
  {
   "cell_type": "code",
   "execution_count": null,
   "metadata": {},
   "outputs": [],
   "source": [
    "print(lista_nombres)\n",
    "nombre=\"Myrian Ortega Retuerto\"\n",
    "nombre = nombre.lower()\n",
    "print(nombre)\n",
    "partes_nombre = nombre.split()"
   ]
  }
 ],
 "metadata": {
  "kernelspec": {
   "display_name": ".venv",
   "language": "python",
   "name": "python3"
  },
  "language_info": {
   "codemirror_mode": {
    "name": "ipython",
    "version": 3
   },
   "file_extension": ".py",
   "mimetype": "text/x-python",
   "name": "python",
   "nbconvert_exporter": "python",
   "pygments_lexer": "ipython3",
   "version": "3.12.6"
  }
 },
 "nbformat": 4,
 "nbformat_minor": 2
}

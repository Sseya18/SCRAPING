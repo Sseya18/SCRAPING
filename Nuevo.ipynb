{
 "cells": [
  {
   "cell_type": "code",
   "execution_count": 1,
   "metadata": {},
   "outputs": [],
   "source": [
    "from seleniumbase import Driver"
   ]
  },
  {
   "cell_type": "code",
   "execution_count": null,
   "metadata": {},
   "outputs": [],
   "source": [
    "def encontrar_nombre_mas_parecido(nombre_objetivo, lista_nombres):\n",
    "    # Convertir el nombre objetivo a minúsculas\n",
    "    nombre_objetivo = nombre_objetivo.lower()\n",
    "    partes_objetivo = nombre_objetivo.split()\n",
    "    primer_nombre_objetivo = partes_objetivo[0]  # Primer nombre\n",
    "    apellido_paterno_objetivo = partes_objetivo[2]  # Primer apellido (paterno)\n",
    "    \n",
    "    mejor_nombre = \"\"\n",
    "    mayor_coincidencia = 0\n",
    "    posicion_mejor_nombre = -1\n",
    "\n",
    "    for i, nombre in enumerate(lista_nombres):\n",
    "        # Convertir el nombre actual a minúsculas\n",
    "        nombre = nombre.lower()\n",
    "        partes_nombre = nombre.split()\n",
    "        if len(partes_nombre) < 3:  # Validar que tenga suficiente información\n",
    "            continue\n",
    "        primer_nombre_actual = partes_nombre[0]\n",
    "        apellido_paterno_actual = partes_nombre[2]\n",
    "        \n",
    "        # Contar coincidencias\n",
    "        coincidencias = 0\n",
    "        if primer_nombre_objetivo == primer_nombre_actual:\n",
    "            coincidencias += 1\n",
    "        if apellido_paterno_objetivo == apellido_paterno_actual:\n",
    "            coincidencias += 1\n",
    "\n",
    "        # Actualizar si es el más parecido\n",
    "        if coincidencias > mayor_coincidencia:\n",
    "            mayor_coincidencia = coincidencias\n",
    "            mejor_nombre = nombre\n",
    "            posicion_mejor_nombre = i  # Guardar la posición\n",
    "\n",
    "    return mejor_nombre, mayor_coincidencia, posicion_mejor_nombre"
   ]
  },
  {
   "cell_type": "code",
   "execution_count": 4,
   "metadata": {},
   "outputs": [],
   "source": [
    "#abrir navegador, defecto chrome\n",
    "driver=Driver(uc=True)"
   ]
  },
  {
   "cell_type": "code",
   "execution_count": 5,
   "metadata": {},
   "outputs": [],
   "source": [
    "driver.open(\"https://www.linkedin.com/login/es?fromSignIn=true&trk=guest_homepage-basic_nav-header-signin\")"
   ]
  },
  {
   "cell_type": "code",
   "execution_count": 6,
   "metadata": {},
   "outputs": [],
   "source": [
    "driver.type(\"#username\", \"dreamsin.pe@gmail.com\")\n",
    "driver.type(\"#password\", \"holasoyDREAMSIN5+\")\n",
    "driver.click(\"button.btn__primary--large\")"
   ]
  },
  {
   "cell_type": "code",
   "execution_count": 7,
   "metadata": {},
   "outputs": [],
   "source": [
    "driver.open(\"https://www.linkedin.com/search/results/people/?origin=FACETED_SEARCH&schoolFilter=%5B%221017841%22%5D&sid=nrM\")"
   ]
  },
  {
   "cell_type": "code",
   "execution_count": 8,
   "metadata": {},
   "outputs": [],
   "source": [
    "driver.press_keys(\"input.search-global-typeahead__input\", \"JOSE LUIS YUI HUAMAN\\n\")"
   ]
  },
  {
   "cell_type": "code",
   "execution_count": 31,
   "metadata": {},
   "outputs": [],
   "source": [
    "nombre_objetivo = \"LUIS ANGELO HUAMAN QUILLAY\""
   ]
  },
  {
   "cell_type": "code",
   "execution_count": 32,
   "metadata": {},
   "outputs": [],
   "source": [
    "resultados = driver.find_elements(\"li.reusable-search__result-container\")"
   ]
  },
  {
   "cell_type": "code",
   "execution_count": 25,
   "metadata": {},
   "outputs": [
    {
     "name": "stdout",
     "output_type": "stream",
     "text": [
      "Jose Luis Yui Huaman\n",
      "Jose Luis Yui Huaman\n",
      "Ver el perfil de Jose Luis Yui Huaman\n",
      "• 3er+\n",
      "Contacto de 3er grado y demás\n",
      "Ingeniero Industrial,con experiencia en las áreas de Planeamiento,Administración de Proyectos, Operaciones y Producción.\n",
      "Peru\n",
      "\n",
      "-----\n",
      "\n",
      "JOSE LUIS CHAMAYA HUAMAN\n",
      "JOSE LUIS CHAMAYA HUAMAN\n",
      "Ver el perfil de JOSE LUIS CHAMAYA HUAMAN\n",
      "• 3er+\n",
      "Contacto de 3er grado y demás\n",
      "ABOGADO CIVIL PENAL Y CORPORATIVO\n",
      "Peru\n",
      "\n",
      "-----\n",
      "\n",
      "Jorge Luis Huaman Robles\n",
      "Ver el perfil de Jorge Luis Huaman Robles\n",
      "• 3er+\n",
      "Contacto de 3er grado y demás\n",
      "Jorge Luis Huaman Robles\n",
      "Lima\n",
      "\n",
      "-----\n",
      "\n",
      "LUIS ANGELO HUAMAN QUILLAY\n",
      "Ver el perfil de LUIS ANGELO HUAMAN QUILLAY\n",
      "• 3er+\n",
      "Contacto de 3er grado y demás\n",
      "Chemical engineering student | Minería | Python\n",
      "Lima Metropolitan Area\n",
      "924 seguidores\n",
      "\n",
      "-----\n",
      "\n",
      "Estado: con conexión\n",
      "Luis Angel Huaman Oscuvilca\n",
      "Ver el perfil de Luis Angel Huaman Oscuvilca\n",
      "• 3er+\n",
      "Contacto de 3er grado y demás\n",
      "Abogado de Minería, Petróleo, Gas y Desarrollo Sostenible\n",
      "Peru\n",
      "Ofrece servicios: Consultoría legal\n",
      "\n",
      "-----\n",
      "\n",
      "Jose Carlos Antay Huaman\n",
      "Ver el perfil de Jose Carlos Antay Huaman\n",
      "• 3er+\n",
      "Contacto de 3er grado y demás\n",
      "Bachiller en Ingeniería Civil de la Universidad Nacional Mayor de San Marcos | Becario Pronabec\n",
      "Lima Metropolitan Area\n",
      "\n",
      "-----\n",
      "\n",
      "LUIS ALBERTO CARRILLO HUAMÁN\n",
      "Ver el perfil de LUIS ALBERTO CARRILLO HUAMÁN\n",
      "• 3er+\n",
      "Contacto de 3er grado y demás\n",
      "BACHILLER INGENIERIA CIVIL 👷| UNIVERSIDAD PRIVADA DEL NORTE\n",
      "Peru\n",
      "Extracto: Me presento soy Luis Alberto Carrillo Huaman egresado de la carrera de Ingeniería Civil de la...\n",
      "\n",
      "-----\n",
      "\n",
      "JOSE LUIS HUAMAN CHAVEZ\n",
      "Ver el perfil de JOSE LUIS HUAMAN CHAVEZ\n",
      "• 3er+\n",
      "Contacto de 3er grado y demás\n",
      "Maestria en Dirección y Administración de la Construcción\n",
      "Cajamarca, Peru\n",
      "\n",
      "-----\n",
      "\n",
      "José Huamán\n",
      "Ver el perfil de José Huamán\n",
      "• 3er+\n",
      "Contacto de 3er grado y demás\n",
      "Diseñador/Desarrollador Web | Instructor de cursos virtuales | Postproductor Audiovisual\n",
      "Peru\n",
      "\n",
      "-----\n",
      "\n",
      "LUIS ANGEL MARTIN HUAMAN GABRIEL\n",
      "Ver el perfil de LUIS ANGEL MARTIN HUAMAN GABRIEL\n",
      "• 3er+\n",
      "Contacto de 3er grado y demás\n",
      "Estudiante en Universidad Nacional de Ingeniería\n",
      "Lima Metropolitan Area\n",
      "\n",
      "-----\n",
      "\n"
     ]
    }
   ],
   "source": [
    "i=0\n",
    "for i in range(10): \n",
    "    print(resultados[i].text)\n",
    "    print(\"\\n-----\\n\")"
   ]
  },
  {
   "cell_type": "code",
   "execution_count": 33,
   "metadata": {},
   "outputs": [],
   "source": [
    "lista_nombres = [resultado.text.split(\"\\n\")[0].strip() for resultado in resultados]  # Extraer solo los nombres"
   ]
  },
  {
   "cell_type": "code",
   "execution_count": 34,
   "metadata": {},
   "outputs": [
    {
     "data": {
      "text/plain": [
       "['Jose Luis Yui Huaman',\n",
       " 'JOSE LUIS CHAMAYA HUAMAN',\n",
       " 'Jorge Luis Huaman Robles',\n",
       " 'LUIS ANGELO HUAMAN QUILLAY',\n",
       " 'Estado: con conexión',\n",
       " 'Jose Carlos Antay Huaman',\n",
       " 'LUIS ALBERTO CARRILLO HUAMÁN',\n",
       " 'JOSE LUIS HUAMAN CHAVEZ',\n",
       " 'José Huamán',\n",
       " 'LUIS ANGEL MARTIN HUAMAN GABRIEL']"
      ]
     },
     "execution_count": 34,
     "metadata": {},
     "output_type": "execute_result"
    }
   ],
   "source": [
    "lista_nombres"
   ]
  },
  {
   "cell_type": "code",
   "execution_count": 35,
   "metadata": {},
   "outputs": [],
   "source": [
    "nombre_mas_parecido, coincidencias, posicion = encontrar_nombre_mas_parecido(nombre_objetivo, lista_nombres)"
   ]
  },
  {
   "cell_type": "code",
   "execution_count": 36,
   "metadata": {},
   "outputs": [
    {
     "data": {
      "text/plain": [
       "('luis angelo huaman quillay', 2, 4)"
      ]
     },
     "execution_count": 36,
     "metadata": {},
     "output_type": "execute_result"
    }
   ],
   "source": [
    "nombre_mas_parecido, coincidencias, posicion"
   ]
  },
  {
   "cell_type": "code",
   "execution_count": 38,
   "metadata": {},
   "outputs": [
    {
     "name": "stdout",
     "output_type": "stream",
     "text": [
      "Nombre más parecido: luis angelo huaman quillay\n",
      "Coincidencias: 2\n",
      "Posición en los resultados: 4 (1: primer resultado, 2: segundo, etc.)\n"
     ]
    }
   ],
   "source": [
    "# Mostrar resultados\n",
    "print(f\"Nombre más parecido: {nombre_mas_parecido}\")\n",
    "print(f\"Coincidencias: {coincidencias}\")\n",
    "print(f\"Posición en los resultados: {posicion} (1: primer resultado, 2: segundo, etc.)\")"
   ]
  },
  {
   "cell_type": "code",
   "execution_count": 39,
   "metadata": {},
   "outputs": [],
   "source": [
    "driver.quit()"
   ]
  }
 ],
 "metadata": {
  "kernelspec": {
   "display_name": ".venv",
   "language": "python",
   "name": "python3"
  },
  "language_info": {
   "codemirror_mode": {
    "name": "ipython",
    "version": 3
   },
   "file_extension": ".py",
   "mimetype": "text/x-python",
   "name": "python",
   "nbconvert_exporter": "python",
   "pygments_lexer": "ipython3",
   "version": "3.13.0"
  }
 },
 "nbformat": 4,
 "nbformat_minor": 2
}

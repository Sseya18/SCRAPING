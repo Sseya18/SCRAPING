{
 "cells": [
  {
   "cell_type": "code",
   "execution_count": 14,
   "metadata": {},
   "outputs": [],
   "source": [
    "from seleniumbase import Driver"
   ]
  },
  {
   "cell_type": "code",
   "execution_count": 2,
   "metadata": {},
   "outputs": [],
   "source": [
    "import pandas as pd"
   ]
  },
  {
   "cell_type": "code",
   "execution_count": 7,
   "metadata": {},
   "outputs": [],
   "source": [
    "archivo_excel=\"./DATA/EGRESADOS_FIIS.xlsx\"\n",
    "df = pd.read_excel(archivo_excel, engine='openpyxl')"
   ]
  },
  {
   "cell_type": "code",
   "execution_count": 8,
   "metadata": {},
   "outputs": [
    {
     "name": "stdout",
     "output_type": "stream",
     "text": [
      "  Unnamed: 0 Unnamed: 1                         Unnamed: 2 Unnamed: 3  \\\n",
      "0        NaN         N°                    NOMBRE COMPLETO     CÓDIGO   \n",
      "1     BRAYAN          1                Diana Parra Salazar       2015   \n",
      "2        NaN          2   Pedro Arturo Valdivia Magallanes       2009   \n",
      "3        NaN          3       Brian David Matienzo García        2009   \n",
      "4        NaN          4  Fernando Jesús Sánchez Huaytalla        2007   \n",
      "\n",
      "     Unnamed: 4        Unnamed: 5  \\\n",
      "0  ESPECIALIDAD  ¿VERIFICADO UNI?   \n",
      "1            I1                SÍ   \n",
      "2            I1                SÍ   \n",
      "3            I2               NaN   \n",
      "4            I1               NaN   \n",
      "\n",
      "                                          Unnamed: 6      Unnamed: 7  \\\n",
      "0                                      ÁREA / PUESTO  EMPRESA ACTUAL   \n",
      "1                           Comercial (Mkt & Sales)              NaN   \n",
      "2                 Mantenimiento / Gestión de Activos             NaN   \n",
      "3           Desarrollo de software empresarial (ERP)             NaN   \n",
      "4  Seguridad Industrial, Sistema de Gestión de Se...             NaN   \n",
      "\n",
      "  Unnamed: 8                      Unnamed: 9 Unnamed: 10  \\\n",
      "0   LINKEDIN                          CORREO    TELÉFONO   \n",
      "1        NaN                  dparras@uni.pe   959040764   \n",
      "2        NaN                pvaldiviam@uni.p   976724930   \n",
      "3        NaN  brian.matienzogarcia@gmail.con   989702786   \n",
      "4        NaN         fsanchez.uni@gmail.com    993140688   \n",
      "\n",
      "              Unnamed: 11 Unnamed: 12  \n",
      "0  ¿POSIBLE PARTICIPANTE?    ¿ACEPTÓ?  \n",
      "1                      SÍ         NaN  \n",
      "2                 DIFÍCIL         NaN  \n",
      "3                     NaN         NaN  \n",
      "4                     NaN         NaN  \n"
     ]
    }
   ],
   "source": [
    "print(df.head())"
   ]
  },
  {
   "cell_type": "code",
   "execution_count": 12,
   "metadata": {},
   "outputs": [
    {
     "name": "stdout",
     "output_type": "stream",
     "text": [
      "Diana Parra Salazar\n",
      "Pedro Arturo Valdivia Magallanes\n",
      "Brian David Matienzo García \n",
      "Fernando Jesús Sánchez Huaytalla \n",
      "Myrian Ortega\n",
      "Erwin Schreiber\n",
      "Italo Javier Contreras Perez\n",
      "Karina Surco Guillen\n",
      "Roger Aguilar Alvarez\n"
     ]
    }
   ],
   "source": [
    "lista=df['Unnamed: 2']\n",
    "for i in range(1,10):\n",
    "    print(lista[i])\n"
   ]
  },
  {
   "cell_type": "code",
   "execution_count": 15,
   "metadata": {},
   "outputs": [],
   "source": [
    "driver=Driver(uc=True)"
   ]
  },
  {
   "cell_type": "code",
   "execution_count": 17,
   "metadata": {},
   "outputs": [],
   "source": [
    "driver.open(\"https://www.linkedin.com/login/es?fromSignIn=true&trk=guest_homepage-basic_nav-header-signin\")"
   ]
  },
  {
   "cell_type": "code",
   "execution_count": 18,
   "metadata": {},
   "outputs": [],
   "source": [
    "driver.type(\"#username\", \"JOSHUA\")"
   ]
  },
  {
   "cell_type": "code",
   "execution_count": 19,
   "metadata": {},
   "outputs": [],
   "source": [
    "driver.type(\"#password\", \"JOSHUA123\")\n"
   ]
  },
  {
   "cell_type": "code",
   "execution_count": 20,
   "metadata": {},
   "outputs": [],
   "source": [
    "driver.click(\"button.btn__primary--large\")"
   ]
  }
 ],
 "metadata": {
  "kernelspec": {
   "display_name": ".venv",
   "language": "python",
   "name": "python3"
  },
  "language_info": {
   "codemirror_mode": {
    "name": "ipython",
    "version": 3
   },
   "file_extension": ".py",
   "mimetype": "text/x-python",
   "name": "python",
   "nbconvert_exporter": "python",
   "pygments_lexer": "ipython3",
   "version": "3.12.3"
  }
 },
 "nbformat": 4,
 "nbformat_minor": 2
}
